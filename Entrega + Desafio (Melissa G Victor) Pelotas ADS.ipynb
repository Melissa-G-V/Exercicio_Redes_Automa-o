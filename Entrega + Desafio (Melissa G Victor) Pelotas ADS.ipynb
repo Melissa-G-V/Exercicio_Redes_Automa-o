{
 "cells": [
  {
   "cell_type": "markdown",
   "id": "7a0d746f",
   "metadata": {},
   "source": [
    "# Melissa Gomes Victor (ADS PELOTAS) NOITE."
   ]
  },
  {
   "cell_type": "code",
   "execution_count": 2,
   "id": "b60ae423",
   "metadata": {},
   "outputs": [
    {
     "name": "stdout",
     "output_type": "stream",
     "text": [
      "Escolha uma senha de Usuario: lol\n",
      "\n",
      "Digite sua senha: l7\n",
      "Nº1 da Tentativa\n",
      "\n",
      "Digite sua senha: lol\n",
      "\n",
      "Voce Logou\n"
     ]
    }
   ],
   "source": [
    "## Faça um programa em Python que peça uma senha até que esteja correta ou até que se esgotem 3\n",
    "## tentativas. Se a senha for digitada corretamente antes das três tentativas, deve ser impressa na tela\n",
    "## a mensagem “Senha correta!”, caso contrário, deve ser impressa a mensagem “Esgotaram-se as\n",
    "## tentativas!”.\n",
    "\n",
    "flag = 0\n",
    "senha = input(\"Escolha uma senha de Usuario: \")\n",
    "\n",
    "def LogIn(password):\n",
    "    senha_check = input(\"\\nDigite sua senha: \")\n",
    "    if(password == senha_check):\n",
    "        return print('\\nVoce Logou')\n",
    "    else:\n",
    "        return False\n",
    "\n",
    "while(LogIn(senha) == False and flag <= 3):\n",
    "    flag += 1\n",
    "    print('Nº'+str(flag)+' da Tentativa')\n",
    "    if(flag == 3):\n",
    "        print('\\nAcabaram as tentativas')\n",
    "        break"
   ]
  },
  {
   "cell_type": "code",
   "execution_count": null,
   "id": "510ffcbe",
   "metadata": {},
   "outputs": [
    {
     "name": "stdout",
     "output_type": "stream",
     "text": [
      "Crie um nome de usuario: mel\n",
      "Crie uma senha: 123\n",
      "\n",
      "Digite seu usuario: mel\n",
      "\n",
      "Digite sua senha: 123\n",
      "\n",
      "Voce Logou\n",
      "## SEJA BEM VINDO mel/123 ##\n",
      "\n",
      "Usuario Logado: mel\n",
      "Senha Usuario: 123\n",
      "Logou dia: 17/04/2023\n",
      "Logou Hora: 00:28\n",
      "Diretorio Atual: C:\\Users\\melis\n",
      "Unidade Atual: C:\n",
      "Usuario Sys Atual: melis\n",
      "Pasta Atual: melis\n",
      "Arquivos no diretorio: ['.anaconda', '.aws', '.azure', '.bash_history', '.conda', '.condarc', '.continuum', '.dbus-keyrings', '.docker', '.expo', '.gitconfig', '.ipynb_checkpoints', '.ipython', '.jupyter', '.lesshst', '.matplotlib', '.ms-ad', '.node_repl_history', '.openshot_qt', '.python_history', '.scala_history', '.ssh', '.viminfo', '.VirtualBox', '.vscode', '3D Objects', 'Alaska.png', 'Ambiente de Impressão', 'Ambiente de Rede', 'Api_Exercicio', 'AppData', 'arquivo_texto.txt', 'AWS-Keys', 'battery-report.html', 'bitmap.png', 'Complementares Sketchbook.ipynb', 'ConceptCakes.png', 'Configurações Locais', 'Contacts', 'Cookies', 'Dados de Aplicativos', 'Dani&Lil.svg', 'Data_Exercicios_9', 'demofile.txt', 'Desktop', 'DESKTOP.csv', 'Documents', 'Downloads', 'Entrega + Desafio.ipynb', 'Exercicios_Estagio.txt', 'Exercicios_Estagio1.txt', 'Exercicios_Estagio2.txt', 'Exercicios_Estagio3.txt', 'Exercicios_Estagio4.txt', 'Exercicios_Semana4_Mel.ipynb', 'Exercícios Python Semana 1 - Melissa Gomes Victor.ipynb', 'Favorites', 'g170896.png', 'g4694.png', 'g64330.png', 'g76487.png', 'get-pip.py', 'GFG.html', 'image832.png', 'JupyterNotebook.ipynb', 'Leitor_twitter.ipynb', 'Links', 'ListaComplementar.ipynb', 'Logoexandy', 'Material Semana 5', 'meliss.ipynb', 'Menu Iniciar', 'Meus Documentos', 'Microsoft', 'Modelos', 'Music', 'nomes.csv', 'NoteBi.ipynb', 'Novo documento 1.2022_03_27_18_22_40.0.svg', 'NTUSER.DAT', 'ntuser.dat.LOG1', 'ntuser.dat.LOG2', 'NTUSER.DAT{53b39e88-18c4-11ea-a811-000d3aa4692b}.TM.blf', 'NTUSER.DAT{53b39e88-18c4-11ea-a811-000d3aa4692b}.TMContainer00000000000000000001.regtrans-ms', 'NTUSER.DAT{53b39e88-18c4-11ea-a811-000d3aa4692b}.TMContainer00000000000000000002.regtrans-ms', 'ntuser.ini', 'OneDrive', 'path64362.png', 'Pictures', 'PySpark.ipynb', 'Pyspark_semana_8 (versão definitiva).ipynb', 'Python_REST.ipynb', 'Recent', 'rect964.png', 's.csv', 'Saved Games', 'Searches', 'Semana 9.ipynb', 'SEMANA_10.ipynb', 'SendTo', 'Snek.png', 'spark-warehouse', 'Teste.csv', 'teste.ipynb', 'Text1', 'Text1.txt', 'Text11.txt', 'Text12.txt', 'Text13.txt', 'Text14.txt', 'Untitled Python.ipynb', 'Untitled.ipynb', 'Untitled1.ipynb', 'Untitled10.ipynb', 'Untitled11.ipynb', 'Untitled12.ipynb', 'Untitled13.ipynb', 'Untitled14.ipynb', 'Untitled15.ipynb', 'Untitled16.ipynb', 'Untitled17.ipynb', 'Untitled18.ipynb', 'Untitled19.ipynb', 'Untitled2.ipynb', 'Untitled20.ipynb', 'Untitled21.ipynb', 'Untitled22.ipynb', 'Untitled23.ipynb', 'Untitled24.ipynb', 'Untitled3.ipynb', 'Untitled4.ipynb', 'Untitled5.ipynb', 'Untitled6.ipynb', 'Untitled7.ipynb', 'Untitled8.ipynb', 'Untitled9.ipynb', 'Videos', 'VirtualBox VMs', 'word.ipynb', 'Yasmin1ano.png']\n",
      "Quantidade arquivos: 140\n"
     ]
    }
   ],
   "source": [
    "#Considere um terminal de atendimento que disponibiliza informações sobre: data, horário e diretório atual. Este\n",
    "#terminal necessita de uma autenticação (exercício anterior) para prover as informações. Uma vez realizada a\n",
    "#devida autenticação (isto é, nome de usuário e senha corretos) o programa deve listar as seguintes informações\n",
    "#ao usuário:\n",
    "#- Data\n",
    "#- Horário\n",
    "#- Caminho do Diretório atual\n",
    "#- Quantidade de arquivos do diretório\n",
    "#- A lista de arquivos contidos neste diretório\n",
    "#- Unidade de disco atual\n",
    "#- Nome de usuário da máquina\n",
    "#- Nome do diretório Atual \n",
    "\n",
    "import datetime\n",
    "import os\n",
    "\n",
    "usuario = input('Crie um nome de usuario: ')\n",
    "senha = input('Crie uma senha: ')\n",
    "\n",
    "def LogIn(password, user):\n",
    "    usuario_check = input(\"\\nDigite seu usuario para logar: \")\n",
    "    senha_check = input(\"\\nDigite sua senha para logar: \")\n",
    "    if(password == senha_check and user == usuario_check):\n",
    "        return print('\\nVoce Logou')\n",
    "    else:\n",
    "        return False\n",
    "    \n",
    "def MySys():\n",
    "    cwd = os.getcwd()\n",
    "    unidade = cwd.split('\\\\')\n",
    "    arquivos = []\n",
    "    for caminho in os.listdir(cwd):\n",
    "        arquivos.append(caminho)\n",
    "    qnt_arquivos = len(arquivos)\n",
    "    return print('Diretorio Atual: '+str(cwd)+'\\nUnidade Atual: '+str(unidade[0])+'\\nUsuario Sys Atual: '+os.getlogin()+'\\nPasta Atual: ' +str(unidade[-1])+'\\nArquivos no diretorio: '+str(arquivos)+'\\nQuantidade arquivos: '+str(len(arquivos)))\n",
    "\n",
    "\n",
    "def DiaHoras():\n",
    "    datahora = datetime.datetime.now()\n",
    "    return  print( 'Logou dia: '+ datahora.strftime(\"%d/%m/%Y\")+'\\nLogou Hora: '+ datahora.strftime(\"%H:%M\"))\n",
    "\n",
    "    \n",
    "while(True):\n",
    "    if(LogIn(senha,usuario) != False):\n",
    "        print('## SEJA BEM VINDO '+str(usuario)+'/'+str(senha)+' ##')\n",
    "        print('\\nUsuario Logado: '+str(usuario)+'\\nSenha Usuario: '+str(senha))\n",
    "        DiaHoras()\n",
    "        MySys()\n",
    "    else:\n",
    "        print('@@ SEJA BEM VINDO @@')\n",
    "        print('SENHA/USUARIO ERRADOS\\n')\n",
    "    \n"
   ]
  },
  {
   "cell_type": "markdown",
   "id": "5f8fd9f2",
   "metadata": {},
   "source": [
    "m\n",
    "m\n",
    "m"
   ]
  }
 ],
 "metadata": {
  "kernelspec": {
   "display_name": "Python 3 (ipykernel)",
   "language": "python",
   "name": "python3"
  },
  "language_info": {
   "codemirror_mode": {
    "name": "ipython",
    "version": 3
   },
   "file_extension": ".py",
   "mimetype": "text/x-python",
   "name": "python",
   "nbconvert_exporter": "python",
   "pygments_lexer": "ipython3",
   "version": "3.9.12"
  }
 },
 "nbformat": 4,
 "nbformat_minor": 5
}
